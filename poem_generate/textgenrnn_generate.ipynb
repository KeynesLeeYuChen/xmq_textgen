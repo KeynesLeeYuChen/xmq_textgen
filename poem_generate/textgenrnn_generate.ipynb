{
 "cells": [
  {
   "cell_type": "code",
   "execution_count": 4,
   "metadata": {},
   "outputs": [],
   "source": [
    "import pandas as pd\n",
    "import numpy as np\n",
    "from textgenrnn import textgenrnn\n",
    "from keras.utils.data_utils import get_file"
   ]
  },
  {
   "cell_type": "code",
   "execution_count": 5,
   "metadata": {},
   "outputs": [
    {
     "ename": "TypeError",
     "evalue": "get_file() missing 1 required positional argument: 'origin'",
     "output_type": "error",
     "traceback": [
      "\u001b[0;31m---------------------------------------------------------------------------\u001b[0m",
      "\u001b[0;31mTypeError\u001b[0m                                 Traceback (most recent call last)",
      "\u001b[0;32m<ipython-input-5-76c6e4723d19>\u001b[0m in \u001b[0;36m<module>\u001b[0;34m()\u001b[0m\n\u001b[0;32m----> 1\u001b[0;31m \u001b[0mfulltext_path\u001b[0m \u001b[0;34m=\u001b[0m \u001b[0mget_file\u001b[0m\u001b[0;34m(\u001b[0m\u001b[0;34m'One Hundred Years of Solitude.txt'\u001b[0m\u001b[0;34m)\u001b[0m\u001b[0;34m\u001b[0m\u001b[0m\n\u001b[0m\u001b[1;32m      2\u001b[0m \u001b[0mgen\u001b[0m \u001b[0;34m=\u001b[0m \u001b[0mtextgenrnn\u001b[0m\u001b[0;34m(\u001b[0m\u001b[0;34m)\u001b[0m\u001b[0;34m\u001b[0m\u001b[0m\n",
      "\u001b[0;31mTypeError\u001b[0m: get_file() missing 1 required positional argument: 'origin'"
     ]
    }
   ],
   "source": []
  },
  {
   "cell_type": "code",
   "execution_count": 6,
   "metadata": {},
   "outputs": [
    {
     "name": "stdout",
     "output_type": "stream",
     "text": [
      "Training new model w/ 2-layer, 128-cell LSTMs\n",
      "Training on 1,312,730 character sequences.\n",
      "Epoch 1/1\n",
      "10255/10255 [==============================] - 1502s 146ms/step - loss: 1.4993\n",
      "####################\n",
      "Temperature: 0.2\n",
      "####################\n",
      "he same to the same to him a sad to the same to th\n",
      "\n",
      "he street and the silver had been the same to the \n",
      "\n",
      " same to the same to the strengto the same to the \n",
      "\n",
      "####################\n",
      "Temperature: 0.5\n",
      "####################\n",
      "a startled to see he had not special carrying a we\n",
      "\n",
      "val train of his attempt the time of the days the \n",
      "\n",
      "he first to him a startled in the laboratory, when\n",
      "\n",
      "####################\n",
      "Temperature: 1.0\n",
      "####################\n",
      "s siaratated when Frenetal days and they belies do\n",
      "\n",
      "and horpher the hove because song my sink wretnity\n",
      "\n",
      "il smile fourteen they decaped space her write lif\n",
      "\n",
      "__________________________________________________________________________________________________\n",
      "Layer (type)                    Output Shape         Param #     Connected to                     \n",
      "==================================================================================================\n",
      "input (InputLayer)              (None, 10)           0                                            \n",
      "__________________________________________________________________________________________________\n",
      "embedding (Embedding)           (None, 10, 100)      7500        input[0][0]                      \n",
      "__________________________________________________________________________________________________\n",
      "rnn_1 (LSTM)                    (None, 10, 128)      117248      embedding[0][0]                  \n",
      "__________________________________________________________________________________________________\n",
      "rnn_2 (LSTM)                    (None, 10, 128)      131584      rnn_1[0][0]                      \n",
      "__________________________________________________________________________________________________\n",
      "rnn_concat (Concatenate)        (None, 10, 356)      0           embedding[0][0]                  \n",
      "                                                                 rnn_1[0][0]                      \n",
      "                                                                 rnn_2[0][0]                      \n",
      "__________________________________________________________________________________________________\n",
      "attention (AttentionWeightedAve (None, 356)          356         rnn_concat[0][0]                 \n",
      "__________________________________________________________________________________________________\n",
      "output (Dense)                  (None, 75)           26775       attention[0][0]                  \n",
      "==================================================================================================\n",
      "Total params: 283,463\n",
      "Trainable params: 283,463\n",
      "Non-trainable params: 0\n",
      "__________________________________________________________________________________________________\n",
      "None\n"
     ]
    }
   ],
   "source": [
    "gen.reset()\n",
    "gen.train_from_largetext_file(\n",
    "                    'One Hundred Years of Solitude.txt',\n",
    "                    new_model=True, \n",
    "                    num_epochs=1,\n",
    "                    max_length =10,\n",
    "                    max_gen_length = 50,\n",
    "                    max_words=5000\n",
    "                              )\n",
    "\n",
    "print(gen.model.summary())"
   ]
  },
  {
   "cell_type": "code",
   "execution_count": 7,
   "metadata": {},
   "outputs": [
    {
     "name": "stdout",
     "output_type": "stream",
     "text": [
      "re week at two stood Meme saints who luice began sroupex upset when there was never Jowest were inside to her behore of her fate of sharo and down, I wit did not mempoth. In spiting that reading to deciles there debite of marriep. Orherms and Aureliano, Jos??rretain, because to half a twere fourteed\n",
      "\n",
      "ealwnoun more time the do nature of his death, said.\n",
      "   Just.? Ly name brought and to announced at they seemed her were was nestify to dare piece of his hand irpreistired the buten to head a vaguentice those speaking spartled tied the existical saw how is the marrieff her astary, unletal bun felt no\n",
      "\n",
      "along as so cueturnless Macondo, but allesin. He went oxpense being pool the until protenting her tentows with a gruan with a pretarismed to wake shake.?\n",
      "   In spite of the made Remode rales: urory. One seponsious made he would hand something quere, and a called to marrieting return forsel, he saw a\n",
      "\n",
      " cards up. I went a marry times sensibilit out would drown the hone was a brother of put it redurt on a housed at floctenemniclar of only through the annicer, but she feeling a night was to have make ?rsula seen not even fervers, pass, as atteters one as a nature, and party there for sold have been \n",
      "\n",
      "owing the carced one.\n",
      "   Come and region to sat at with the kill exession. Don campanation of the shot of his great-grasiless. You canay speeth,?she shout she saw dright of for soon clear to have done say, on the chirch avail of the room growitives, and that had been fears of happy, who had less eve\n",
      "\n",
      "eless. Aureliano Segundo was promisetes sincered with a sayines of the rooms. Not boxtered the detrolments pales. Arcadios stopped again to diving the rooms,?her so menss that had a wibectyy and eamedly arbertag, as she thought a family bothers inved with a twenty-years, to the crow twreok from the \n",
      "\n",
      "dering trad good before, and it as a spinted.?\n",
      "   He light down with daughts lorger: I alr, Aureliano Sersaraa Buenda, and meinish her dests of local barroom, who never person drew all crossibilies yourteen to his unventists would prisonsent waltion and feir in noticed room inter, but on the doors w\n",
      "\n",
      " to crazy only to punlexibule and recoveral ssided hours but an haker blest trims aswive.?\n",
      "   Foretain to.?Remedios to Him her house, the party resistrols. Fernandas to come in the day hearth, during that matering his mocths as a letter, and he would only queen arran her laughered then sat with the \n",
      "\n",
      " Beod homforts. Oxcapprited at the alchdare and spater to asser. Again special extent that for the let on a noisy. He end so that her wed that she thought bont that the saw the cart. Aurelianow let the pissed that Aureliano set man when she had from Rebeca would wet a her are on long a vicil in Frid\n",
      "\n",
      " when she attemppaned himself and their let have him the -twhe awakeny and through they contratic predition Jos?Arcadio Buenda tree.?\n",
      "   he was answered her set what it gave the end and a boots for that a queen,?hand return, who had tried her contreque to reprit up that she had he love of hon a hand\n",
      "\n"
     ]
    }
   ],
   "source": [
    "gen.generate(10,temperature=1.0)"
   ]
  },
  {
   "cell_type": "code",
   "execution_count": null,
   "metadata": {},
   "outputs": [],
   "source": []
  }
 ],
 "metadata": {
  "kernelspec": {
   "display_name": "Python 3",
   "language": "python",
   "name": "python3"
  },
  "language_info": {
   "codemirror_mode": {
    "name": "ipython",
    "version": 3
   },
   "file_extension": ".py",
   "mimetype": "text/x-python",
   "name": "python",
   "nbconvert_exporter": "python",
   "pygments_lexer": "ipython3",
   "version": "3.6.5"
  }
 },
 "nbformat": 4,
 "nbformat_minor": 2
}
